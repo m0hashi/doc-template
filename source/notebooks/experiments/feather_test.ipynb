{
 "cells": [
  {
   "cell_type": "markdown",
   "metadata": {},
   "source": [
    "## Feather vs csv"
   ]
  },
  {
   "cell_type": "code",
   "execution_count": 1,
   "metadata": {},
   "outputs": [],
   "source": [
    "import pandas as pd\n",
    "import glob\n",
    "from pathlib2 import Path"
   ]
  },
  {
   "cell_type": "markdown",
   "metadata": {},
   "source": [
    "### 事前準備 csv -> Featherへの変換"
   ]
  },
  {
   "cell_type": "code",
   "execution_count": 2,
   "metadata": {},
   "outputs": [],
   "source": [
    "def _change_suffix(fname):\n",
    "    fname = fname.replace(\".csv\", \".fth\")\n",
    "    return fname\n",
    "    \n",
    "def csv2feather(path: str):\n",
    "    path = Path(path).joinpath(Path('*.csv')).__str__()\n",
    "    files_csv = glob.glob(path)\n",
    "    files_fth = [_change_suffix(x) for x in files_csv]\n",
    "    for f_csv, f_fth in zip(files_csv, files_fth):\n",
    "        if not Path(f_fth).exists():\n",
    "            pd.read_csv(f_csv).to_feather(f_fth)\n",
    "csv2feather('./data/raw/')"
   ]
  },
  {
   "cell_type": "markdown",
   "metadata": {},
   "source": [
    "### テスト関数の定義\n",
    "ディレクトリにある指定のフォーマットのファイルをすべて読み込むまでの爺間を計測するための関数を準備"
   ]
  },
  {
   "cell_type": "code",
   "execution_count": 15,
   "metadata": {},
   "outputs": [],
   "source": [
    "from time import time\n",
    "def load_csv():\n",
    "    files = glob.glob('./data/raw/*.csv')\n",
    "    for file in files:\n",
    "        s = time()\n",
    "        df = pd.read_csv(file)\n",
    "        print(df.shape, time() - s)\n",
    "        \n",
    "def load_fth():\n",
    "    files = glob.glob('data/raw/*.fth')\n",
    "    for file in files:\n",
    "        s = time()\n",
    "        df = pd.read_feather(file)\n",
    "        print(df.shape, time() - s)"
   ]
  },
  {
   "cell_type": "markdown",
   "metadata": {},
   "source": [
    "### csvの読み込み"
   ]
  },
  {
   "cell_type": "code",
   "execution_count": 13,
   "metadata": {},
   "outputs": [
    {
     "name": "stdout",
     "output_type": "stream",
     "text": [
      "(1969, 14) 0.01345968246459961\n",
      "(6841121, 4) 2.7242822647094727\n",
      "(30490, 1919) 6.296654224395752\n",
      "(60980, 29) 0.11475229263305664\n",
      "CPU times: user 8.73 s, sys: 432 ms, total: 9.16 s\n",
      "Wall time: 9.15 s\n"
     ]
    }
   ],
   "source": [
    "%%time\n",
    "load_csv()"
   ]
  },
  {
   "cell_type": "markdown",
   "metadata": {},
   "source": [
    "### Featherの読み込み"
   ]
  },
  {
   "cell_type": "code",
   "execution_count": 17,
   "metadata": {},
   "outputs": [
    {
     "name": "stdout",
     "output_type": "stream",
     "text": [
      "(60980, 29) 0.026194095611572266\n",
      "(30490, 1919) 0.10404300689697266\n",
      "(6841121, 4) 0.4682652950286865\n",
      "(1969, 14) 0.048716068267822266\n",
      "CPU times: user 846 ms, sys: 1.93 s, total: 2.78 s\n",
      "Wall time: 649 ms\n"
     ]
    }
   ],
   "source": [
    "%%time\n",
    "load_fth()"
   ]
  }
 ],
 "metadata": {
  "kernelspec": {
   "display_name": "Python 3",
   "language": "python",
   "name": "python3"
  },
  "language_info": {
   "codemirror_mode": {
    "name": "ipython",
    "version": 3
   },
   "file_extension": ".py",
   "mimetype": "text/x-python",
   "name": "python",
   "nbconvert_exporter": "python",
   "pygments_lexer": "ipython3",
   "version": "3.7.6"
  }
 },
 "nbformat": 4,
 "nbformat_minor": 4
}
